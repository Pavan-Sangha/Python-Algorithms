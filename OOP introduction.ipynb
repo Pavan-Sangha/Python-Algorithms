{
 "cells": [
  {
   "cell_type": "markdown",
   "metadata": {},
   "source": [
    "# Object Oriented Programming "
   ]
  },
  {
   "cell_type": "markdown",
   "metadata": {},
   "source": [
    "As the name implies, the main “actors” in the object-oriented paradigm are called objects. Each object is an instance of a class. Each class presents to the outside world a concise and consistent view of the objects that are instances of this class, without going into too much unnecessary detail or giving others access to the inner workings of the objects. The class definition typically specifies instance variables, also known as data members, that the object contains, as well as the methods, also known as member functions, that the object can execute."
   ]
  },
  {
   "cell_type": "markdown",
   "metadata": {},
   "source": [
    "A class serves as the primary means for abstraction in object-oriented program- ming. In Python, every piece of data is represented as an instance of some class. A class provides a set of behaviors in the form of member functions (also known as methods), with implementations that are common to all instances of that class. A class also serves as a blueprint for its instances, effectively determining the way that state information for each instance is represented in the form of attributes (also known as fields, instance variables, or data members)."
   ]
  },
  {
   "cell_type": "markdown",
   "metadata": {},
   "source": [
    "Our code begins in Code Fragment 2.1 and continues in Code Fragment 2.2. The construct begins with the keyword, class, followed by the name of the class, a colon, and then an indented block of code that serves as the body of the class. The body includes definitions for all methods of the class. These methods are defined as functions, using techniques introduced in Section 1.5, yet with a special parameter, named self, that serves to identify the particular instance upon which a member is invoked.\n"
   ]
  },
  {
   "cell_type": "markdown",
   "metadata": {},
   "source": [
    "### The self identifier"
   ]
  },
  {
   "cell_type": "markdown",
   "metadata": {},
   "source": [
    "In Python, the self identifier plays a key role. In the context of the CreditCard class, there can presumably be many different CreditCard instances, and each must maintain its own balance, its own credit limit, and so on. Therefore, each instance stores its own instance variables to reflect its current state.\n",
    "Syntactically, self identifies the instance upon which a method is invoked. For example, assume that a user of our class has a variable, my card, that identifies an instance of the CreditCard class. When the user calls my card.get balance(), identifier self, within the definition of the get balance method, refers to the card known as my card by the caller. The expression, self. balance refers to an instance variable, named   balance, stored as part of that particular credit card’s state."
   ]
  },
  {
   "cell_type": "markdown",
   "metadata": {},
   "source": [
    "## Credit card class"
   ]
  },
  {
   "cell_type": "code",
   "execution_count": null,
   "metadata": {
    "collapsed": true
   },
   "outputs": [],
   "source": [
    "class CreditCard:\n",
    "    \n",
    "    def __init__(self,customer,bank,acnt,limit):\n",
    "        \n",
    "        \"create a new instance of the class credit card\"\n",
    "        \n",
    "        self._customer = customer\n",
    "        self._bank = bank\n",
    "        self._account = acnt\n",
    "        self._limit = limit\n",
    "        self._balance = 0\n",
    "    \n",
    "    def get_balance(self):\n",
    "        return self._balance\n",
    "    \n",
    "    def get_customer(self):\n",
    "        return self._customer\n",
    "    \n",
    "    def get_account(self):\n",
    "        return self._account\n",
    "    \n",
    "    def get_limit(self):\n",
    "        \n",
    "        return self._limit\n",
    "    \n",
    "    def get_balance(self):\n",
    "        \n",
    "        return self._balance \n",
    "    \n",
    "    \n",
    "    def charge(self, price):\n",
    "        \"\"\"Charge given price to the card, assuming sufficient credit limit\n",
    "        Return True if charge was processed;False if charge was denied. \n",
    "        \"\"\"\n",
    "        self._last_transaction = 'good'   # defining an instance variable outside of the __init__ method\n",
    "        if price + self._balance > self._limit:\n",
    "            return False\n",
    "        \n",
    "        else:\n",
    "            self._balance += price\n",
    "            return True\n",
    "        \n",
    "    def make_payment(self,amount):\n",
    "        # self._balance is an instance variable this is qualified, the amount variable is unqualified\n",
    "        self._balance -= amount\n",
    "    "
   ]
  },
  {
   "cell_type": "code",
   "execution_count": null,
   "metadata": {
    "collapsed": true
   },
   "outputs": [],
   "source": [
    "card = CreditCard('john','bank1','1233',5000)"
   ]
  },
  {
   "cell_type": "code",
   "execution_count": null,
   "metadata": {
    "collapsed": true
   },
   "outputs": [],
   "source": [
    "card.get_balance()"
   ]
  },
  {
   "cell_type": "code",
   "execution_count": null,
   "metadata": {
    "collapsed": true
   },
   "outputs": [],
   "source": [
    "card.charge(100)"
   ]
  },
  {
   "cell_type": "markdown",
   "metadata": {},
   "source": [
    "### accessing instance variables directly \n",
    "* You shouldn't access instance variables directly but use the methods instead in case code changes and instance variables are renamed. "
   ]
  },
  {
   "cell_type": "code",
   "execution_count": null,
   "metadata": {
    "collapsed": true
   },
   "outputs": [],
   "source": [
    "card._customer"
   ]
  },
  {
   "cell_type": "code",
   "execution_count": null,
   "metadata": {
    "collapsed": true
   },
   "outputs": [],
   "source": [
    "card._last_transaction"
   ]
  },
  {
   "cell_type": "markdown",
   "metadata": {},
   "source": [
    "By the conventions described in Section 2.2.3, a single leading underscore in the name of a data member, such as   balance, implies that it is intended as nonpublic. Users of a class should not directly access such members."
   ]
  },
  {
   "cell_type": "markdown",
   "metadata": {},
   "source": [
    "As a general rule, we will treat all data members as nonpublic. This allows us to better enforce a consistent state for all instances. We can provide accessors, such as get balance, to provide a user of our class read-only access to a trait."
   ]
  },
  {
   "cell_type": "markdown",
   "metadata": {},
   "source": [
    "If we wish to allow the user to change the state, we can provide appropriate update methods. In the context of data structures, encapsulating the internal representation allows us greater flexibility to redesign the way a class works, perhaps to improve the efficiency of the structure.\n"
   ]
  },
  {
   "cell_type": "markdown",
   "metadata": {},
   "source": [
    "### Error checking "
   ]
  },
  {
   "cell_type": "markdown",
   "metadata": {},
   "source": [
    "Our implementation of the CreditCard class is not particularly robust. First, we note that we did not explicitly check the types of the parameters to charge and make payment, nor any of the parameters to the constructor. If a user were to make a call such as visa.charge( candy ), our code would presumably crash when at- tempting to add that parameter to the current balance. If this class were to be widely used in a library, we might use more rigorous techniques to raise a TypeError when facing such misuse (see Section 1.7)."
   ]
  },
  {
   "cell_type": "markdown",
   "metadata": {},
   "source": [
    "Beyond the obvious type errors, our implementation may be susceptible to log- ical errors. For example, if a user were allowed to charge a negative price, such as visa.charge(−300), that would serve to lower the customer’s balance. This pro- vides a loophole for lowering a balance without making a payment. Of course, this might be considered valid usage if modeling the credit received when a cus- tomer returns merchandise to a store."
   ]
  },
  {
   "cell_type": "markdown",
   "metadata": {},
   "source": [
    "### Operator overloading "
   ]
  },
  {
   "cell_type": "markdown",
   "metadata": {},
   "source": [
    "When a binary operator is applied to two instances of different types, as in 3     love me , Python gives deference to the class of the left operand. In this example, it would effectively check if the int class provides a sufficient definition for how to multiply an instance by a string, via the     mul     method. However, if that class does not implement such a behavior, Python checks the class defini- tion for the right-hand operand, in the form of a special method named     rmul (i.e., “right multiply”). This provides a way for a new user-defined class to support mixed operations that involve an instance of an existing class (given that the exist- ing class would presumably not have defined a behavior involving this new class). The distinction between     mul     and     rmul     also allows a class to define dif- ferent semantics in cases, such as matrix multiplication, in which an operation is noncommutative (that is, A   x may differ from x   A)."
   ]
  },
  {
   "cell_type": "markdown",
   "metadata": {},
   "source": [
    "### Non operator overloading "
   ]
  },
  {
   "cell_type": "markdown",
   "metadata": {},
   "source": [
    "Non-Operator Overloads\n",
    "In addition to traditional operator overloading, Python relies on specially named methods to control the behavior of various other functionality, when applied to user-defined classes. For example, the syntax, str(foo), is formally a call to the constructor for the string class. Of course, if the parameter is an instance of a user- defined class, the original authors of the string class could not have known how that instance should be portrayed. So the string constructor calls a specially named method, foo.     str     (), that must return an appropriate string representation.\n",
    "Similar special methods are used to determine how to construct an int, float, or bool based on a parameter from a user-defined class. The conversion to a Boolean value is particularly important, because the syntax, if foo:, can be used even when foo is not formally a Boolean value (see Section 1.4.1). For a user-defined class, that condition is evaluated by the special method foo.     bool     ()."
   ]
  },
  {
   "cell_type": "markdown",
   "metadata": {},
   "source": [
    "## Vector class"
   ]
  },
  {
   "cell_type": "markdown",
   "metadata": {},
   "source": [
    "Although it might be tempting to directly use a Python list to represent those coordinates, a list does not provide an appropriate abstraction for a geometric vector. In particular, if using lists, the ex- pression [5, −2, 3] + [1, 4, 2] results in the list [5, −2, 3, 1, 4, 2]. When working with vectors, if u = ⟨5, −2, 3⟩ and v = ⟨1, 4, 2⟩, one would expect the expression, u + v, to return a three-dimensional vector with coordinates ⟨6, 2, 5⟩."
   ]
  },
  {
   "cell_type": "markdown",
   "metadata": {},
   "source": [
    "It is interesting to note that the class definition, as given in Code Fragment 2.4, automatically supports the syntax u = v + [5, 3, 10, −2, 1], resulting in a new vector that is the element-by-element “sum” of the first vector and the list in- stance. This is a result of Python’s polymorphism. Literally, “polymorphism” means “many forms.” Although it is tempting to think of the other parameter of our     add     method as another Vector instance, we never declared it as such. Within the body, the only behaviors we rely on for parameter other is that it sup- ports len(other) and access to other[j]. Therefore, our code executes when the right-hand operand is a list of numbers (with matching length)."
   ]
  },
  {
   "cell_type": "code",
   "execution_count": null,
   "metadata": {
    "collapsed": true
   },
   "outputs": [],
   "source": [
    "class Vector:\n",
    "    \"\"\"\n",
    "    represents a vecot in multidimensional space.\n",
    "    \n",
    "    \"\"\"\n",
    "    \n",
    "    def __init__(self,d):\n",
    "        \n",
    "        self._coords = [0]*d\n",
    "        \n",
    "        \n",
    "    def __len__(self):\n",
    "        return len(self._coords)"
   ]
  },
  {
   "cell_type": "code",
   "execution_count": null,
   "metadata": {
    "collapsed": true
   },
   "outputs": [],
   "source": [
    "a = Vector(10)"
   ]
  },
  {
   "cell_type": "code",
   "execution_count": null,
   "metadata": {
    "collapsed": true
   },
   "outputs": [],
   "source": [
    "len(a)"
   ]
  },
  {
   "cell_type": "markdown",
   "metadata": {},
   "source": [
    "## Iterators"
   ]
  },
  {
   "cell_type": "markdown",
   "metadata": {},
   "source": [
    "In short, an iterator for a collec- tion provides one key behavior: It supports a special method named     next     that returns the next element of the collection, if any, or raises a StopIteration exception to indicate that there are no further elements."
   ]
  },
  {
   "cell_type": "markdown",
   "metadata": {},
   "source": [
    "Fortunately, it is rare to have to directly implement an iterator class. Our pre- ferred approach is the use of the generator syntax (also described in Section 1.8), which automatically produces an iterator of yielded values.\n"
   ]
  },
  {
   "cell_type": "markdown",
   "metadata": {},
   "source": [
    "To provide an instructive exam- ple of a low-level iterator, Code Fragment 2.5 demonstrates just such an iterator class that works on any collection that supports both     len     and     getitem     . This class can be instantiated as SequenceIterator(data). It operates by keeping an internal reference to the data sequence, as well as a current index into the sequence. Each time next     is called, the index is incremented, until reaching the end of the sequence."
   ]
  },
  {
   "cell_type": "code",
   "execution_count": null,
   "metadata": {
    "collapsed": true
   },
   "outputs": [],
   "source": [
    "class SequenceIterator:\n",
    "    \n",
    "    \"\"\"\n",
    "    An iterator for any of Pythons sequence types\n",
    "    \"\"\"\n",
    "    \n",
    "    def __init__(self,sequence):\n",
    "        \n",
    "        self._seq = sequence # reference to underlying data\n",
    "        self._k = -1 # increments to 0 on first call to next\n",
    "    \n",
    "    def __next__(self):\n",
    "        \n",
    "        self._k +=1\n",
    "        if self._k < len(self._seq):\n",
    "            return(self._seq[self._k])\n",
    "        else:\n",
    "            raise StopIteration\n",
    "            \n",
    "    def __iter__(self):\n",
    "        \n",
    "        return self"
   ]
  },
  {
   "cell_type": "markdown",
   "metadata": {},
   "source": [
    "Iterable is an object, which one can iterate over. It generates an Iterator when passed to iter() method. Iterator is an object, which is used to iterate over an iterable object using __next__() method. Iterators have __next__() method, which returns the next item of the object.\n",
    "\n",
    "Note that every iterator is also an iterable, but not every iterable is an iterator. For example, a list is iterable but a list is not an iterator. An iterator can be created from an iterable by using the function iter(). To make this possible, the class of an object needs either a method __iter__, which returns an iterator, or a __getitem__ method with sequential indexes starting with 0."
   ]
  },
  {
   "cell_type": "markdown",
   "metadata": {},
   "source": [
    "to summarise\n",
    "\n",
    "* An iterable is just an object which can be iterated over so it has an __iter__ method\n",
    "* An iterator is an object which does the iteration"
   ]
  },
  {
   "cell_type": "code",
   "execution_count": null,
   "metadata": {
    "collapsed": true
   },
   "outputs": [],
   "source": [
    "#data = {10,12,12,15,16,12,1123} # does not support indexing\n",
    "data = [10,12,12,15,122]\n",
    "a = SequenceIterator(data)"
   ]
  },
  {
   "cell_type": "markdown",
   "metadata": {},
   "source": [
    "since a is an iterator we can call the next method on it"
   ]
  },
  {
   "cell_type": "code",
   "execution_count": null,
   "metadata": {
    "collapsed": true
   },
   "outputs": [],
   "source": [
    "print(next(a))\n",
    "print(next(a))\n",
    "print(next(a))"
   ]
  },
  {
   "cell_type": "markdown",
   "metadata": {},
   "source": [
    "# A different iterator\n",
    "* Now lets create a different iterator jump one "
   ]
  },
  {
   "cell_type": "code",
   "execution_count": null,
   "metadata": {
    "collapsed": true
   },
   "outputs": [],
   "source": [
    "class SequenceIteratorJump1:\n",
    "    \n",
    "    \"\"\"\n",
    "    An iterator for any of Pythons sequence types\n",
    "    \"\"\"\n",
    "    \n",
    "    def __init__(self,sequence):\n",
    "        \n",
    "        self._seq = sequence # reference to underlying data\n",
    "        self._k = -1 # increments to 0 on first call to next\n",
    "    \n",
    "    def __next__(self):\n",
    "        \n",
    "        self._k +=2\n",
    "        if self._k < len(self._seq):\n",
    "            return(self._seq[self._k])\n",
    "        else:\n",
    "            raise StopIteration\n",
    "            \n",
    "    def __iter__(self):\n",
    "        \n",
    "        return self"
   ]
  },
  {
   "cell_type": "code",
   "execution_count": null,
   "metadata": {
    "collapsed": true
   },
   "outputs": [],
   "source": [
    "data2 = [10,12,12,14,16,89,922,1010,22202,1231312]\n",
    "a = SequenceIteratorJump1(data2) # create an iterator object"
   ]
  },
  {
   "cell_type": "code",
   "execution_count": null,
   "metadata": {
    "collapsed": true
   },
   "outputs": [],
   "source": [
    "next(a)"
   ]
  },
  {
   "cell_type": "code",
   "execution_count": null,
   "metadata": {
    "collapsed": true
   },
   "outputs": [],
   "source": [
    "next(a)"
   ]
  },
  {
   "cell_type": "code",
   "execution_count": null,
   "metadata": {
    "collapsed": true
   },
   "outputs": [],
   "source": [
    "next(a)"
   ]
  },
  {
   "cell_type": "code",
   "execution_count": null,
   "metadata": {
    "collapsed": true
   },
   "outputs": [],
   "source": [
    "class SequenceIteratorTwoAtaTime:\n",
    "    \n",
    "    \"\"\"\n",
    "    An iterator for any of Pythons sequence types\n",
    "    \"\"\"\n",
    "    \n",
    "    def __init__(self,sequence):\n",
    "        \n",
    "        self._seq = sequence # reference to underlying data\n",
    "        self._k = -1 # increments to 0 on first call to next\n",
    "    \n",
    "    def __next__(self):\n",
    "        \n",
    "        self._k +=1\n",
    "        if self._k < len(self._seq):\n",
    "            return(self._seq[self._k],self._seq[self._k + 1])\n",
    "        else:\n",
    "            raise StopIteration\n",
    "            \n",
    "    def __iter__(self):\n",
    "        \n",
    "        return self"
   ]
  },
  {
   "cell_type": "code",
   "execution_count": null,
   "metadata": {
    "collapsed": true
   },
   "outputs": [],
   "source": [
    "data = [1,1,2,3,4,5,5,5,5,6,7,8,9]\n",
    "a = SequenceIteratorTwoAtaTime(data)"
   ]
  },
  {
   "cell_type": "code",
   "execution_count": null,
   "metadata": {
    "collapsed": true
   },
   "outputs": [],
   "source": [
    "next(a)"
   ]
  },
  {
   "cell_type": "code",
   "execution_count": null,
   "metadata": {
    "collapsed": true
   },
   "outputs": [],
   "source": [
    "next(a)"
   ]
  },
  {
   "cell_type": "code",
   "execution_count": null,
   "metadata": {
    "collapsed": true
   },
   "outputs": [],
   "source": [
    "next(a)"
   ]
  },
  {
   "cell_type": "code",
   "execution_count": null,
   "metadata": {
    "collapsed": true
   },
   "outputs": [],
   "source": [
    "#### Example of an iterable\n",
    "class Range:\n",
    "    \n",
    "    \"\"\"\n",
    "    mimicing pythons range class\n",
    "    \"\"\"\n",
    "    \n",
    "    \n",
    "    def __init__(self,start,stop = None,step = 1):\n",
    "        \n",
    "        if step == 0:\n",
    "            raise ValueError('step cannot be 0')\n",
    "            \n",
    "        if stop is None:\n",
    "            start,stop = 0,start   # trick so that range(n) means range(0,n) allows you to not put range(0,n) and just\n",
    "            # use range(n) as short cut\n",
    "        \n",
    "        self._length = max(0, (stop-start+step-1)//step) # a // k = t then a + (k-1) // k = t+1\n",
    "        # we include first value in length so we dont do (stop-start)//step\n",
    "        \n",
    "        # need knowledge of start and step (not stop) to support __getitem__\n",
    "        self._start = start\n",
    "        self._step = step\n",
    "    \n",
    "    def __len__(self):\n",
    "        \n",
    "        return self._length\n",
    "    \n",
    "    def __getitem__(self,k):\n",
    "        \n",
    "        if k<0:\n",
    "            k+=len(self)\n",
    "        \n",
    "        if not 0<= k < self._length:\n",
    "            \n",
    "            raise IndexError('index out of range')\n",
    "        \n",
    "        return self._start + k* self._step\n",
    "    \n",
    "    \n",
    "        "
   ]
  },
  {
   "cell_type": "code",
   "execution_count": null,
   "metadata": {
    "collapsed": true
   },
   "outputs": [],
   "source": [
    "a = range(0,10,2)"
   ]
  },
  {
   "cell_type": "code",
   "execution_count": null,
   "metadata": {
    "collapsed": true
   },
   "outputs": [],
   "source": [
    "next(a)"
   ]
  },
  {
   "cell_type": "code",
   "execution_count": null,
   "metadata": {
    "collapsed": true
   },
   "outputs": [],
   "source": [
    "range_iter = iter(a)"
   ]
  },
  {
   "cell_type": "code",
   "execution_count": null,
   "metadata": {
    "collapsed": true
   },
   "outputs": [],
   "source": [
    "next(range_iter)"
   ]
  },
  {
   "cell_type": "code",
   "execution_count": null,
   "metadata": {
    "collapsed": true
   },
   "outputs": [],
   "source": [
    "next(range_iter)"
   ]
  },
  {
   "cell_type": "code",
   "execution_count": null,
   "metadata": {
    "collapsed": true
   },
   "outputs": [],
   "source": [
    "next(range_iter)"
   ]
  },
  {
   "cell_type": "code",
   "execution_count": null,
   "metadata": {
    "collapsed": true
   },
   "outputs": [],
   "source": [
    "x = 10\n",
    "2< x <=100"
   ]
  },
  {
   "cell_type": "code",
   "execution_count": null,
   "metadata": {
    "collapsed": true
   },
   "outputs": [],
   "source": [
    "### Now lets try our own range\n",
    "\n",
    "b = Range(0,10,2)"
   ]
  },
  {
   "cell_type": "code",
   "execution_count": null,
   "metadata": {
    "collapsed": true
   },
   "outputs": [],
   "source": [
    "next(b)"
   ]
  },
  {
   "cell_type": "code",
   "execution_count": null,
   "metadata": {
    "collapsed": true
   },
   "outputs": [],
   "source": [
    "Range_iterator = iter(b)"
   ]
  },
  {
   "cell_type": "code",
   "execution_count": null,
   "metadata": {
    "collapsed": true
   },
   "outputs": [],
   "source": [
    "next(Range_iterator)"
   ]
  },
  {
   "cell_type": "code",
   "execution_count": null,
   "metadata": {
    "collapsed": true
   },
   "outputs": [],
   "source": [
    "next(Range_iterator)"
   ]
  },
  {
   "cell_type": "code",
   "execution_count": null,
   "metadata": {
    "collapsed": true
   },
   "outputs": [],
   "source": [
    "for n in Range(10,20,2):\n",
    "    print(n)"
   ]
  },
  {
   "cell_type": "markdown",
   "metadata": {},
   "source": [
    "### Building an iterable and an iterator"
   ]
  },
  {
   "cell_type": "code",
   "execution_count": null,
   "metadata": {
    "collapsed": true
   },
   "outputs": [],
   "source": [
    "class iRangeIter:\n",
    "    \n",
    "    def __init__(self,start, stop=None, step = 1):\n",
    "        \n",
    "        self._current = start\n",
    "        self._stop = stop\n",
    "        \n",
    "    \n",
    "    def __next__(self):\n",
    "        \n",
    "        \n",
    "        if self._stop:\n",
    "            current_item = self._current\n",
    "            if current_item>self._stop:\n",
    "                raise StopIteration()    # We want to raise error NOT return it else it will return error message\n",
    "            else:\n",
    "                self._current +=1\n",
    "                return current_item\n",
    "        else:\n",
    "            self._current +=1\n",
    "            return current_item\n",
    "        \n",
    "    def __iter__(self):\n",
    "        \n",
    "        return self\n",
    "    \n",
    "    "
   ]
  },
  {
   "cell_type": "code",
   "execution_count": null,
   "metadata": {
    "collapsed": true
   },
   "outputs": [],
   "source": []
  },
  {
   "cell_type": "code",
   "execution_count": null,
   "metadata": {
    "collapsed": true
   },
   "outputs": [],
   "source": [
    "a = iRangeIter(10)"
   ]
  },
  {
   "cell_type": "code",
   "execution_count": null,
   "metadata": {
    "collapsed": true
   },
   "outputs": [],
   "source": [
    "next(a)"
   ]
  },
  {
   "cell_type": "code",
   "execution_count": null,
   "metadata": {
    "collapsed": true
   },
   "outputs": [],
   "source": [
    "class iRange:\n",
    "    \n",
    "    \"\"\"\n",
    "    mimicing pythons range class with a __iter__ method instead of __getitem__\n",
    "    \"\"\"\n",
    "    \n",
    "    \n",
    "    def __init__(self,start,stop = None,step = 1):\n",
    "        \n",
    "        if step == 0:\n",
    "            raise ValueError('step cannot be 0')\n",
    "            \n",
    "        if stop is None:\n",
    "            start,stop = 0,start   # trick so that range(n) means range(0,n) allows you to not put range(0,n) and just\n",
    "            # use range(n) as short cut\n",
    "        \n",
    "        self._length = max(0, (stop-start+step-1)//step) # a // k = t then a + (k-1) // k = t+1\n",
    "        # we include first value in length so we dont do (stop-start)//step\n",
    "        \n",
    "        # need knowledge of start and step (not stop) to support __getitem__\n",
    "        self._start = start\n",
    "        self._stop = stop\n",
    "        self._step = step\n",
    "    \n",
    "    def __len__(self):\n",
    "        \n",
    "        return self._length\n",
    "    \n",
    "    def __iter__(self):\n",
    "        \n",
    "        return iRangeIter(start = self._start, stop = self._stop, step = self._step)\n",
    "    \n",
    "    \n",
    "        \n",
    "        \n",
    "    \n",
    "    \n",
    "        "
   ]
  },
  {
   "cell_type": "code",
   "execution_count": null,
   "metadata": {
    "collapsed": true
   },
   "outputs": [],
   "source": [
    "a = iRange(10,20,2)"
   ]
  },
  {
   "cell_type": "code",
   "execution_count": null,
   "metadata": {
    "collapsed": true
   },
   "outputs": [],
   "source": [
    "### Defining an iterator over iRange object\n",
    "\n",
    "b = iter(a)"
   ]
  },
  {
   "cell_type": "code",
   "execution_count": null,
   "metadata": {
    "collapsed": true
   },
   "outputs": [],
   "source": [
    "next(b)"
   ]
  },
  {
   "cell_type": "code",
   "execution_count": null,
   "metadata": {
    "collapsed": true
   },
   "outputs": [],
   "source": [
    "for n in iRangeIter(10,20,2):\n",
    "    print(n)"
   ]
  },
  {
   "cell_type": "markdown",
   "metadata": {},
   "source": [
    "## Inheretance "
   ]
  },
  {
   "cell_type": "code",
   "execution_count": null,
   "metadata": {
    "collapsed": true
   },
   "outputs": [],
   "source": [
    "class CreditCard:\n",
    "    \n",
    "    def __init__(self,customer,bank,acnt,limit):\n",
    "        \n",
    "        \"create a new instance of the class credit card\"\n",
    "        \n",
    "        self._customer = customer\n",
    "        self._bank = bank\n",
    "        self._account = acnt\n",
    "        self._limit = limit\n",
    "        self._balance = 0\n",
    "    \n",
    "    def get_balance(self):\n",
    "        return self._balance\n",
    "    \n",
    "    def get_customer(self):\n",
    "        return self._customer\n",
    "    \n",
    "    def get_account(self):\n",
    "        return self._account\n",
    "    \n",
    "    def get_limit(self):\n",
    "        \n",
    "        return self._limit\n",
    "    \n",
    "    def get_balance(self):\n",
    "        \n",
    "        return self._balance \n",
    "    \n",
    "    \n",
    "    def charge(self, price):\n",
    "        \"\"\"Charge given price to the card, assuming sufficient credit limit\n",
    "        Return True if charge was processed;False if charge was denied. \n",
    "        \"\"\"\n",
    "        self._last_transaction = 'good'   # defining an instance variable outside of the __init__ method\n",
    "        if price + self._balance > self._limit:\n",
    "            return False\n",
    "        \n",
    "        else:\n",
    "            self._balance += price\n",
    "            return True\n",
    "        \n",
    "    def make_payment(self,amount):\n",
    "        '''\n",
    "        Process customer payment that reduces balance.\n",
    "        '''\n",
    "        \n",
    "        # self._balance is an instance variable this is qualified, the amount variable is unqualified\n",
    "        self._balance -= amount\n",
    "    "
   ]
  },
  {
   "cell_type": "markdown",
   "metadata": {},
   "source": [
    "To demonstrate the mechanisms for inheritance in Python, we revisit the CreditCard class of Section 2.3, implementing a subclass that, for lack of a better name, we name PredatoryCreditCard. The new class will differ from the original in two ways: (1) if an attempted charge is rejected because it would have exceeded the credit limit, a $5 fee will be charged, and (2) there will be a mechanism for assess- ing a monthly interest charge on the outstanding balance, based upon an Annual Percentage Rate (APR) specified as a constructor parameter.\n",
    "In accomplishing this goal, we demonstrate the techniques of specialization and extension. To charge a fee for an invalid charge attempt, we override the existing charge method, thereby specializing it to provide the new functionality (although the new version takes advantage of a call to the overridden version). To provide support for charging interest, we extend the class with a new method named process month."
   ]
  },
  {
   "cell_type": "markdown",
   "metadata": {},
   "source": [
    "* Parent class\n",
    "\n",
    "Class name: CreditCard\n",
    "\n",
    "fields:\n",
    "\n",
    "_customer, _balance, _bank, _limit, _account\n",
    "\n",
    "behaviours:\n",
    "\n",
    "get customer(), get bank(),get account(), make payment(amount),get balance(),get limit(),charge(price)\n",
    "\n",
    "\n",
    "* child class\n",
    "\n",
    "Class name: PredatoryCreditCard\n",
    "\n",
    "fields: \n",
    "\n",
    "_apr\n",
    "\n",
    "behaviours:\n",
    "\n",
    "process_month(), charge(price)\n",
    "\n",
    "\n"
   ]
  },
  {
   "cell_type": "markdown",
   "metadata": {},
   "source": [
    "The     init     constructor serves a very similar role to the original CreditCard constructor, except that for our new class, there is an extra parameter to specify the annual percentage rate. The body of our new constructor relies upon making a call to the inherited constructor to perform most of the initialization (in fact, everything other than the recording of the percentage rate). The mechanism for calling the inherited constructor relies on the syntax, super(). Specifically, at line 15 the command"
   ]
  },
  {
   "cell_type": "markdown",
   "metadata": {},
   "source": [
    "    super().__init__(customer, bank, acnt, limit)\n",
    "    \n",
    "calls the __init__     method that was inherited from the CreditCard superclass. Note well that this method only accepts four parameters. We record the APR value in a new field named   apr."
   ]
  },
  {
   "cell_type": "markdown",
   "metadata": {},
   "source": [
    "In similar fashion, our PredatoryCreditCard class provides a new implemen- tation of the charge method that overrides the inherited method. Yet, our imple- mentation of the new method relies on a call to the inherited method, with syntax super().charge(price)"
   ]
  },
  {
   "cell_type": "markdown",
   "metadata": {},
   "source": [
    "The return value of that call designates whether the charge was successful. We examine that return value to decide whether to as- sess a fee, and in turn we return that value to the caller of method, so that the new version of charge has a similar outward interface as the original.\n",
    "The process month method is a new behavior, so there is no inherited version\n",
    "upon which to rely. In our model, this method should be invoked by the bank,\n",
    "once each month, to add new interest charges to the customer’s balance."
   ]
  },
  {
   "cell_type": "markdown",
   "metadata": {},
   "source": [
    "The process month method is a new behavior, so there is no inherited version\n",
    "upon which to rely. In our model, this method should be invoked by the bank,\n",
    "once each month, to add new interest charges to the customer’s balance. The most\n",
    "challenging aspect in implementing this method is making sure we have working\n",
    "knowledge of how an annual percentage rate translates to a monthly rate. "
   ]
  },
  {
   "cell_type": "markdown",
   "metadata": {},
   "source": [
    "We do\n",
    "not simply divide the annual rate by twelve to get a monthly rate (that would be too\n",
    "predatory, as it would result in a higher APR than advertised). The correct com-\n",
    "putation is to take the twelfth-root of 1 + self. apr, and use that as a multiplica-\n",
    "  tive factor. For example, if the APR is 0.0825 (representing 8.25%), we compute\n",
    "√\n",
    "12 1.0825 ≈ 1.006628, and therefore charge 0.6628% interest per month. In this\n",
    " way, each $100 of debt will amass $8.25 of compounded interest in a year."
   ]
  },
  {
   "cell_type": "code",
   "execution_count": null,
   "metadata": {
    "collapsed": true
   },
   "outputs": [],
   "source": [
    "class PredatoryCreditCard(CreditCard):\n",
    "    \n",
    "    \"\"\"\n",
    "    An extension to credit card that compounds interest\n",
    "    \"\"\"\n",
    "    \n",
    "    def __init__(self, customer, bank, acnt, limit, apnr):\n",
    "        \n",
    "        super().__init__(customer,bank, acnt, limit) # call super constructor\n",
    "        self._apr = apnr\n",
    "        \n",
    "    \n",
    "    def charge(self,price):\n",
    "        \n",
    "        success = super().charge(price)\n",
    "        \n",
    "        if not success: \n",
    "            \n",
    "            self._balance +=5\n",
    "        return success\n",
    "    \n",
    "    def process_monthly(self):\n",
    "        \n",
    "        if self._balance>0:\n",
    "            \n",
    "            # if positive convert APR to multiplicative monthly factor\n",
    "            \n",
    "            monthly_factor = pow(1+self._apr,1/12)\n",
    "            self._balance *= monthly_factor\n",
    "            \n",
    "            \n",
    "    \n",
    "    "
   ]
  },
  {
   "cell_type": "code",
   "execution_count": null,
   "metadata": {
    "collapsed": true
   },
   "outputs": [],
   "source": [
    "a = PredatoryCreditCard('andy daf','AAG Bank', '1231231',10000,0.08)"
   ]
  },
  {
   "cell_type": "code",
   "execution_count": null,
   "metadata": {
    "collapsed": true
   },
   "outputs": [],
   "source": [
    "a.get_balance()"
   ]
  },
  {
   "cell_type": "code",
   "execution_count": null,
   "metadata": {
    "collapsed": true
   },
   "outputs": [],
   "source": [
    "a.make_payment(100)"
   ]
  },
  {
   "cell_type": "markdown",
   "metadata": {},
   "source": [
    "### hierarchy of numeric progressions"
   ]
  },
  {
   "cell_type": "markdown",
   "metadata": {},
   "source": [
    "Our implementation of the basic Progression class is provided in Code Frag- ment 2.8. The constructor for this class accepts a starting value for the progression (0 by default), and initializes a data member, self. current, to that value.\n",
    "The Progression class implements the conventions of a Python iterator (see Section 2.3.4), namely the special     next     and     iter     methods. If a user of the class creates a progression as seq = Progression(), each call to next(seq) will return a subsequent element of the progression sequence. It would also be possi- ble to use a for-loop syntax, for value in seq:, although we note that our default progression is defined as an infinite sequence.\n",
    "To better separate the mechanics of the iterator convention from the core logic of advancing the progression, our framework relies on a nonpublic method named advance to update the value of the self. current field. In the default implementa- tion,   advance adds one to the current value, but our intent is that subclasses will\n",
    "override   advance to provide a different rule for computing the next entry.\n",
    "\n",
    "For convenience, the Progression class also provides a utility method, named\n",
    "print progression, that displays the next n values of the progression."
   ]
  },
  {
   "cell_type": "code",
   "execution_count": null,
   "metadata": {
    "collapsed": true
   },
   "outputs": [],
   "source": [
    "class Progression:\n",
    "    \n",
    "    def __init__(self,start=0):\n",
    "        \n",
    "        self._current = start\n",
    "        \n",
    "    def _advance(self):\n",
    "        \n",
    "        \"\"\"\n",
    "        Update self._current to a new value. This should be overridden by subclass to customize progression\n",
    "        \n",
    "        By convention if current is set to None this represents the end of a finite progression\n",
    "    \n",
    "        \"\"\"\n",
    "        \n",
    "        self._current +=1\n",
    "        \n",
    "    def __next__(self):\n",
    "        \n",
    "        \"\"\"\n",
    "        return next element of else StopIteration error\n",
    "        \"\"\"\n",
    "        \n",
    "        number = self._current\n",
    "        self._advance()\n",
    "        return number\n",
    "    \n",
    "    \n",
    "    def __iter__(self):\n",
    "        \n",
    "        \"\"\"\n",
    "        By convention an iterator must return itself as an iterator\n",
    "        \"\"\"\n",
    "        \n",
    "        return self\n",
    "    \n",
    "    def print_progression(self,n):\n",
    "        \n",
    "        print(' '.join(str(next(self)) for j in range(n)))"
   ]
  },
  {
   "cell_type": "code",
   "execution_count": null,
   "metadata": {
    "collapsed": true
   },
   "outputs": [],
   "source": [
    "a = Progression()"
   ]
  },
  {
   "cell_type": "code",
   "execution_count": null,
   "metadata": {
    "collapsed": true
   },
   "outputs": [],
   "source": [
    "next(a)"
   ]
  },
  {
   "cell_type": "code",
   "execution_count": null,
   "metadata": {
    "collapsed": true
   },
   "outputs": [],
   "source": [
    "a.print_progression(10)"
   ]
  },
  {
   "cell_type": "code",
   "execution_count": null,
   "metadata": {
    "collapsed": true
   },
   "outputs": [],
   "source": [
    "next(a)"
   ]
  },
  {
   "cell_type": "code",
   "execution_count": null,
   "metadata": {
    "collapsed": true
   },
   "outputs": [],
   "source": [
    "a.print_progression(10)"
   ]
  },
  {
   "cell_type": "markdown",
   "metadata": {},
   "source": [
    "### An arithmetic progression class"
   ]
  },
  {
   "cell_type": "markdown",
   "metadata": {},
   "source": [
    "Our first example of a specialized progression is an arithmetic progression. While the default progression increases its value by one in each step, an arithmetic pro- gression adds a fixed constant to one term of the progression to produce the next. For example, using an increment of 4 for an arithmetic progression that starts at 0 results in the sequence 0,4,8,12,... ."
   ]
  },
  {
   "cell_type": "markdown",
   "metadata": {},
   "source": [
    "The Code Fragment presents our implementation of an ArithmeticProgression class, which relies on Progression as its base class. The constructor for this new class accepts both an increment value and a starting value as parameters, although default values for each are provided. By our convention, ArithmeticProgression(4) produces the sequence 0,4,8,12,... , and ArithmeticProgression(4, 1) produces the sequence 1,5,9,13,... ."
   ]
  },
  {
   "cell_type": "markdown",
   "metadata": {},
   "source": [
    "The body of the ArithmeticProgression constructor calls the super constructor to initialize the current data member to the desired start value. Then it directly establishes the new increment data member for the arithmetic progression. The only remaining detail in our implementation is to override the   advance method so as to add the increment to the current value."
   ]
  },
  {
   "cell_type": "code",
   "execution_count": null,
   "metadata": {
    "collapsed": true
   },
   "outputs": [],
   "source": [
    "class ArithmeticProgression(Progression):\n",
    "    \"\"\"\n",
    "    Iterator producing an arithmetic progression.\n",
    "\n",
    "    \"\"\"\n",
    "    \n",
    "    def __init__(self,increment = 1, start = 0):\n",
    "        \n",
    "        super().__init__(start)  # initialize base class\n",
    "        self._increment = increment\n",
    "        \n",
    "    def _advance(self):\n",
    "        \n",
    "        self._current += self._increment"
   ]
  },
  {
   "cell_type": "markdown",
   "metadata": {},
   "source": [
    "### A Geometric progression class"
   ]
  },
  {
   "cell_type": "markdown",
   "metadata": {},
   "source": [
    "Our second example of a specialized progression is a geometric progression, in which each value is produced by multiplying the preceding value by a fixed con- stant, known as the base of the geometric progression. The starting point of a ge- ometric progression is traditionally 1, rather than 0, because multiplying 0 by any factor results in 0. As an example, a geometric progression with base 2 proceeds as 1,2,4,8,16,... ."
   ]
  },
  {
   "cell_type": "code",
   "execution_count": null,
   "metadata": {
    "collapsed": true
   },
   "outputs": [],
   "source": [
    "class GeometricProgression(Progression):\n",
    "    \n",
    "    \"\"\"\n",
    "    Iterator producing a Geometric Progression\n",
    "    \n",
    "    \"\"\"\n",
    "    \n",
    "    def __init__(self,base = 2, start = 1):\n",
    "        \n",
    "        super().__init__(start)\n",
    "        self._base = base\n",
    "        \n",
    "    def _advance(self):\n",
    "        \n",
    "        self._current *= self._base"
   ]
  },
  {
   "cell_type": "markdown",
   "metadata": {},
   "source": [
    "### Fibonacci progression"
   ]
  },
  {
   "cell_type": "markdown",
   "metadata": {},
   "source": [
    "As our final example, we demonstrate how to use our progression framework to produce a Fibonacci progression. We originally discussed the Fibonacci series on page 41 in the context of generators. Each value of a Fibonacci series is the sum of the two most recent values. To begin the series, the first two values are conventionally 0 and 1, leading to the Fibonacci series 0,1,1,2,3,5,8,... . More generally, such a series can be generated from any two starting values. For example, if we start with values 4 and 6, the series proceeds as 4,6,10,16,26,42,... ."
   ]
  },
  {
   "cell_type": "code",
   "execution_count": null,
   "metadata": {
    "collapsed": true
   },
   "outputs": [],
   "source": [
    "class FibonacciProgression(Progression):\n",
    "    \n",
    "    \"\"\"\n",
    "    Iterator producing a generalized Fibonacci progression\n",
    "    \"\"\"\n",
    "    \n",
    "    def __init__(self,first=0,second=1):\n",
    "        \n",
    "        \"\"\"\n",
    "        Create a new fibonacci progression\n",
    "        \"\"\"\n",
    "        \n",
    "        super().__init__(first)   # self_current initialised here\n",
    "        self._prev = second - first   # given first, and second as vals we restructure as follows\n",
    "        # new 1st val second-first , new 2nd val first, next val = second-first+first = second\n",
    "        # this ensures the second comes after first\n",
    "    \n",
    "    def _advance(self):\n",
    "        \n",
    "        self._prev,self._current = self._current, self._prev + self._current"
   ]
  },
  {
   "cell_type": "markdown",
   "metadata": {},
   "source": [
    "### Testing progressions"
   ]
  },
  {
   "cell_type": "code",
   "execution_count": null,
   "metadata": {
    "collapsed": true
   },
   "outputs": [],
   "source": [
    "# if__name__== 'main':\n",
    "\n",
    "print('Default Progression')\n",
    "Progression().print_progression(10)\n",
    "\n",
    "print('Arithmetic Progression with increment 5')\n",
    "ArithmeticProgression(5).print_progression(15)\n",
    "\n",
    "\n",
    "print('Arithmetic Progression with increment 5 and start 2')\n",
    "ArithmeticProgression(5,2).print_progression(15)\n",
    "\n",
    "print('Geometric Progression with default base')\n",
    "GeometricProgression().print_progression(10)\n",
    "\n",
    "print('Geometric Progression with default base 3')\n",
    "GeometricProgression(3).print_progression(10)\n",
    "\n",
    "print('Fibonacci progression with default start values')\n",
    "FibonacciProgression().print_progression(15)\n",
    "\n",
    "print('Fibonnaci progression with start values 4 and 6')\n",
    "FibonacciProgression(4,6).print_progression(10)"
   ]
  },
  {
   "cell_type": "markdown",
   "metadata": {},
   "source": [
    "# How Methods work in Python"
   ]
  },
  {
   "cell_type": "markdown",
   "metadata": {},
   "source": [
    "A method is a function that is stored as a class attribute. You can declare and access such a function this way:"
   ]
  },
  {
   "cell_type": "code",
   "execution_count": null,
   "metadata": {
    "collapsed": true
   },
   "outputs": [],
   "source": [
    "class Pizza:\n",
    "    \n",
    "    def __init__(self,size):\n",
    "        self.size = size\n",
    "    \n",
    "    def get_size(self):\n",
    "        return self.size"
   ]
  },
  {
   "cell_type": "code",
   "execution_count": null,
   "metadata": {
    "collapsed": true
   },
   "outputs": [],
   "source": [
    "Pizza(42).get_size()"
   ]
  },
  {
   "cell_type": "code",
   "execution_count": null,
   "metadata": {
    "collapsed": true
   },
   "outputs": [],
   "source": [
    "a = Pizza(42)\n",
    "a.get_size()"
   ]
  },
  {
   "cell_type": "code",
   "execution_count": null,
   "metadata": {
    "collapsed": true
   },
   "outputs": [],
   "source": [
    "# We can even bind the method to a variable\n",
    "m = Pizza.get_size\n"
   ]
  },
  {
   "cell_type": "code",
   "execution_count": null,
   "metadata": {
    "collapsed": true
   },
   "outputs": [],
   "source": [
    "# get size is a function bound to a pizza\n",
    "Pizza.get_size"
   ]
  },
  {
   "cell_type": "markdown",
   "metadata": {},
   "source": [
    "### Static Methods"
   ]
  },
  {
   "cell_type": "markdown",
   "metadata": {},
   "source": [
    "Static methods are a special case of methods. Sometimes, you'll write code that belongs to a class, but that doesn't use the object itself at all."
   ]
  },
  {
   "cell_type": "code",
   "execution_count": null,
   "metadata": {
    "collapsed": true
   },
   "outputs": [],
   "source": [
    "class Pizza:\n",
    "    \n",
    "    def __init__(self,size,cheese,vegtables):\n",
    "        self.size = size\n",
    "        self.cheese = cheese\n",
    "        self.vegtables = vegtables\n",
    "    \n",
    "    def get_size(self):\n",
    "        return self.size\n",
    "    \n",
    "    @staticmethod\n",
    "    def mix_incrediants(x,y):\n",
    "        return x+y\n",
    "    \n",
    "    def cook(self):\n",
    "        return self.mix_incrediants(self.cheese,self.vegtables)"
   ]
  },
  {
   "cell_type": "code",
   "execution_count": null,
   "metadata": {
    "collapsed": true
   },
   "outputs": [],
   "source": [
    "a = Pizza(42,'mild_cheese',' peppers')"
   ]
  },
  {
   "cell_type": "code",
   "execution_count": null,
   "metadata": {
    "collapsed": true
   },
   "outputs": [],
   "source": [
    "a.cook()"
   ]
  },
  {
   "cell_type": "markdown",
   "metadata": {},
   "source": [
    "In such a case, writing mix_ingredients as a non-static method would work too, but it would provide it with a self argument that would not be used. Here, the decorator @staticmethod buys us several things:\n",
    "\n",
    "1. Python doesn't have to instantiate a bound-method for each Pizza object we instantiate. Bound methods are objects too, and creating them has a cost. Having a static method avoids that\n",
    "\n",
    "2. It eases the readability of the code: seeing @staticmethod, we know that the method does not depend on the state of the object itself;\n",
    "\n",
    "3. It allows us to override the mix_ingredients method in a subclass. If we used a function mix_ingredients defined at the top-level of our module, a class inheriting from Pizza wouldn't be able to change the way we mix ingredients for our pizza without overriding cook itself.\n",
    "\n"
   ]
  },
  {
   "cell_type": "markdown",
   "metadata": {},
   "source": [
    "### Class Methods"
   ]
  },
  {
   "cell_type": "markdown",
   "metadata": {},
   "source": [
    "Having said that, what are class methods? Class methods are methods that are\n",
    "not bound to an object, but to… a class!"
   ]
  },
  {
   "cell_type": "code",
   "execution_count": null,
   "metadata": {
    "collapsed": true
   },
   "outputs": [],
   "source": [
    "class Pizza:\n",
    "    \n",
    "    radius = 42    # initialising a class variable\n",
    "    \n",
    "    def __init__(self,size,cheese,vegtables):\n",
    "        self.size = size\n",
    "        self.cheese = cheese\n",
    "        self.vegtables = vegtables\n",
    "    \n",
    "    def get_size(self):\n",
    "        return self.size\n",
    "    \n",
    "    @classmethod\n",
    "    def get_radius(cls):\n",
    "        return cls.radius\n",
    "    \n",
    "    @staticmethod\n",
    "    def mix_incrediants(x,y):\n",
    "        return x+y\n",
    "    \n",
    "    def cook(self):\n",
    "        return self.mix_incrediants(self.cheese,self.vegtables)"
   ]
  },
  {
   "cell_type": "markdown",
   "metadata": {},
   "source": [
    "Whatever the way you use to access this method, it will always be bound to the class it is attached to, and its first argument will be the class itself (remember that classes are objects too)."
   ]
  },
  {
   "cell_type": "markdown",
   "metadata": {},
   "source": [
    "When to use this kind of methods? Well class methods are mostly useful for two types of methods:\n",
    "\n",
    "1. Factory methods, that are used to create an instance for a class using for example some sort of pre-processing. If we use a @staticmethod instead, we would have to hardcode the Pizza class name in our function, making any class inheriting from Pizza unable to use our factory for its own use.\n",
    "\n",
    "2. Class methods can also be used when Static methods call other static methods: if you split a static method in several static methods, you shouldn't hard-code the class name (as a variable in the static method) but use class methods. Using this way to declare our method, the Pizza name is never directly referenced and inheritance and method overriding will work flawlessly"
   ]
  },
  {
   "cell_type": "code",
   "execution_count": null,
   "metadata": {
    "collapsed": true
   },
   "outputs": [],
   "source": [
    "class Pizza(object):\n",
    "    def __init__(self, radius, height):\n",
    "        self.radius = radius\n",
    "        self.height = height\n",
    "\n",
    "    @staticmethod\n",
    "    def compute_area(radius):\n",
    "         return math.pi * (radius ** 2)\n",
    "\n",
    "    @classmethod\n",
    "    def compute_volume(cls, height, radius):\n",
    "         return height * cls.compute_area(radius)\n",
    "\n",
    "    def get_volume(self):\n",
    "        return self.compute_volume(self.height, self.radius)"
   ]
  },
  {
   "cell_type": "markdown",
   "metadata": {},
   "source": [
    "### Abstract Methods"
   ]
  },
  {
   "cell_type": "markdown",
   "metadata": {},
   "source": [
    "An abstract method is a method defined in a base class, but that may not provide any implementation"
   ]
  },
  {
   "cell_type": "code",
   "execution_count": null,
   "metadata": {
    "collapsed": true
   },
   "outputs": [],
   "source": [
    "class Pizza(object):\n",
    "    def get_radius(self):\n",
    "        raise NotImplementedError"
   ]
  },
  {
   "cell_type": "markdown",
   "metadata": {},
   "source": [
    "Any class inheriting from Pizza should implement and override the get_radius method, otherwise an exception would be raised."
   ]
  },
  {
   "cell_type": "markdown",
   "metadata": {},
   "source": [
    "This particular way of implementing abstract method has a drawback. If you write a class that inherits from Pizza and forget to implement get_radius, the error will only be raised when you'll try to use that method."
   ]
  },
  {
   "cell_type": "code",
   "execution_count": null,
   "metadata": {
    "collapsed": true
   },
   "outputs": [],
   "source": [
    "a = Pizza()"
   ]
  },
  {
   "cell_type": "code",
   "execution_count": null,
   "metadata": {
    "collapsed": true
   },
   "outputs": [],
   "source": [
    "a.get_radius()"
   ]
  },
  {
   "cell_type": "markdown",
   "metadata": {},
   "source": [
    "There's a way to trigger this way earlier, when the object is being instantiated, using the abc module that's provided with Python."
   ]
  },
  {
   "cell_type": "markdown",
   "metadata": {},
   "source": [
    "Using abc and its special class, as soon as you'll try to instantiate BasePizza or any class inheriting from it, you'll get a TypeError."
   ]
  },
  {
   "cell_type": "code",
   "execution_count": null,
   "metadata": {
    "collapsed": true
   },
   "outputs": [],
   "source": [
    "from abc import ABC,abstractmethod\n",
    "\n",
    "class BasePizza(ABC):\n",
    "    __metaclass__  = abc.ABCMeta\n",
    "\n",
    "    @abc.abstractmethod\n",
    "    def get_radius(self):\n",
    "         \"\"\"Method that should do something.\"\"\""
   ]
  },
  {
   "cell_type": "code",
   "execution_count": null,
   "metadata": {
    "collapsed": true
   },
   "outputs": [],
   "source": [
    "a = BasePizza()"
   ]
  },
  {
   "cell_type": "markdown",
   "metadata": {},
   "source": [
    "## Abstract Base Class"
   ]
  },
  {
   "cell_type": "markdown",
   "metadata": {},
   "source": [
    "When defining a group of classes as part of an inheritance hierarchy, one technique for avoiding repetition of code is to design a base class with common function- ality that can be inherited by other classes that need it."
   ]
  },
  {
   "cell_type": "markdown",
   "metadata": {},
   "source": [
    "As an example, the hi- erarchy from Section 2.4.2 includes a Progression class, which serves as a base class for three distinct subclasses: ArithmeticProgression, GeometricProgression, and FibonacciProgression. "
   ]
  },
  {
   "cell_type": "markdown",
   "metadata": {},
   "source": [
    "In statically typed languages such as Java and C++, an abstract base class serves as a formal type that may guarantee one or more abstract methods. This provides support for polymorphism, as a variable may have an abstract base class as its de- clared type, even though it refers to an instance of a concrete subclass. Because there are no declared types in Python, this kind of polymorphism can be accom- plished without the need for a unifying abstract base class. For this reason, there is not as strong a tradition of defining abstract base classes in Python, although Python’s abc module provides support for defining a formal abstract base class.\n"
   ]
  },
  {
   "cell_type": "markdown",
   "metadata": {},
   "source": [
    "Our reason for focusing on abstract base classes in our study of data structures is that Python’s collections module provides several abstract base classes that assist when defining custom data structures that share a common interface with some of Python’s built-in data structures. These rely on an object-oriented software design pattern known as the template method pattern."
   ]
  },
  {
   "cell_type": "markdown",
   "metadata": {},
   "source": [
    "As a tangible example, the collections.Sequence abstract base class defines be- haviors common to Python’s list, str, and tuple classes, as sequences that sup- port element access via an integer index. More so, the collections.Sequence class provides concrete implementations of methods, count, index, and     contains that can be inherited by any class that provides concrete implementations of both\n",
    "len     and     getitem     ."
   ]
  },
  {
   "cell_type": "markdown",
   "metadata": {},
   "source": [
    "### Abstract sequence class"
   ]
  },
  {
   "cell_type": "code",
   "execution_count": null,
   "metadata": {
    "collapsed": true
   },
   "outputs": [],
   "source": [
    "from abc import ABCMeta,abstractmethod"
   ]
  },
  {
   "cell_type": "code",
   "execution_count": null,
   "metadata": {
    "collapsed": true
   },
   "outputs": [],
   "source": [
    "class Sequence(metaclass=ABCMeta):\n",
    "    \"\"\"\n",
    "    Our own version of collections. Sequence abstract base class\n",
    "    \"\"\"\n",
    "    \n",
    "    @abstractmethod\n",
    "    def __len__(self):\n",
    "        \"\"\"\n",
    "        Return the length of the sequence\n",
    "        \"\"\"\n",
    "        \n",
    "    @abstractmethod\n",
    "    def __getitem__(self,j):\n",
    "        \n",
    "        \"\"\"\n",
    "        Return the element at index j of the sequence\n",
    "        \"\"\"\n",
    "        \n",
    "    def __contains__(self,val):\n",
    "        \n",
    "        for j in range(len(self)):\n",
    "            if self[j] == val:\n",
    "                return True\n",
    "            return False\n",
    "    \n",
    "    def index(self,val):\n",
    "        \"\"\"\n",
    "        Return Leftmost index at which val is found\n",
    "        \"\"\"\n",
    "        for j in range(len(self)):\n",
    "            if self[j] == val:\n",
    "                return j\n",
    "        raise ValueError('value not in sequence')\n",
    "        \n",
    "    def count(self,val):\n",
    "        \"\"\"\n",
    "        Return the number of elements equal to given value\n",
    "        \"\"\"\n",
    "        k=0\n",
    "        for j in range(len(self)):\n",
    "            if self[j]==val:\n",
    "                k+=1\n",
    "        return k\n",
    "                "
   ]
  },
  {
   "cell_type": "markdown",
   "metadata": {},
   "source": [
    "This implementation relies on two advanced Python techniques. The first is that we declare the ABCMeta class of the abc module as a metaclass of our Sequence class. A metaclass is different from a superclass, in that it provides a template for the class definition itself. Specifically, the ABCMeta declaration assures that the constructor for the class raises an error."
   ]
  },
  {
   "cell_type": "markdown",
   "metadata": {},
   "source": [
    "The second advanced technique is the use of the @abstractmethod decorator immediately before the     __len__     and    __getitem__     methods are declared. That de- clares these two particular methods to be abstract, meaning that we do not provide an implementation within our Sequence base class, but that we expect any concrete subclasses to support those two methods. Python enforces this expectation, by dis- allowing instantiation for any subclass that does not override the abstract methods with concrete implementations.\n",
    "The rest of the Sequence class definition provides tangible implementations for other behaviors, under the assumption that the abstract     len     and     getitem methods will exist in a concrete subclass. If you carefully examine the source code, the implementations of methods     contains     , index, and count do not rely on any assumption about the self instances, other than that syntax len(self) and self[j] are supported (by special methods     len     and     getitem     , respectively). \n",
    "In the remainder of this book, we omit the formality of using the abc module. If we need an “abstract” base class, we simply document the expectation that sub- classes provide assumed functionality, without technical declaration of the methods as abstract. But we will make use of the wonderful abstract base classes that are defined within the collections module (such as Sequence). To use such a class, we need only rely on standard inheritance techniques.\n",
    "For example, our Range class, from Code Fragment 2.6 of Section 2.3.5, is an example of a class that supports the     len     and     getitem     methods. But that class does not support methods count or index. Had we originally declared it with Sequence as a superclass, then it would also inherit the count and index methods. The syntax for such a declaration would begin as:\n",
    "class Range(collections.Sequence):\n",
    "Finally, we emphasize that if a subclass provides its own implementation of an inherited behaviors from a base class, the new definition overrides the inherited one. This technique can be used when we have the ability to provide a more effi- cient implementation for a behavior than is achieved by the generic approach. As an example, the general implementation of     contains     for a sequence is based on a loop used to search for the desired value. For our Range class, there is an opportunity for a more efficient determination of containment. For example, it is evident that the expression, 100000 in Range(0, 2000000, 100), should evalu- ate to True, even without examining the individual elements of the range, because the range starts with zero, has an increment of 100, and goes until 2 million; it must include 100000, as that is a multiple of 100 that is between the start and stop values. Exercise C-2.27 explores the goal of providing an implementation of Range.     contains     that avoids the use of a (time-consuming) loop."
   ]
  },
  {
   "cell_type": "markdown",
   "metadata": {},
   "source": [
    "## Namespaces and object orientation"
   ]
  },
  {
   "cell_type": "markdown",
   "metadata": {},
   "source": [
    "### what is name in python?"
   ]
  },
  {
   "cell_type": "markdown",
   "metadata": {},
   "source": [
    "For example, when we do the assignment a = 2, here 2 is an object stored in memory and a is the name we associate it with. We can get the address (in RAM) of some object through the built-in function, id()"
   ]
  },
  {
   "cell_type": "code",
   "execution_count": null,
   "metadata": {
    "collapsed": true
   },
   "outputs": [],
   "source": [
    "a = 2\n",
    "# Output: id(2)= 10919424\n",
    "print('id(2) =', id(2))\n",
    "\n",
    "# Output: id(a) = 10919424\n",
    "print('id(a) =', id(a))"
   ]
  },
  {
   "cell_type": "markdown",
   "metadata": {},
   "source": [
    "Here, both refer to the same object. Let's make things a little more interesting.\n",
    "\n"
   ]
  },
  {
   "cell_type": "code",
   "execution_count": null,
   "metadata": {
    "collapsed": true
   },
   "outputs": [],
   "source": [
    "a = 2\n",
    "\n",
    "# Output: id(a) = 10919424\n",
    "print('id(a) =', id(a))\n",
    "\n",
    "a = a+1\n",
    "\n",
    "# Output: id(a) = 10919456\n",
    "print('id(a) =', id(a))\n",
    "\n",
    "# Output: id(3) = 10919456\n",
    "print('id(3) =', id(3))\n",
    "\n",
    "b = 2\n",
    "\n",
    "# Output: id(2)= 10919424\n",
    "print('id(2) =', id(2))\n",
    "\n",
    "# Output: id(b) \n",
    "print('id(b) =', id(b))"
   ]
  },
  {
   "cell_type": "markdown",
   "metadata": {},
   "source": [
    "Initially, an object 2 is created and the name a is associated with it, when we do a = a+1, a new object 3 is created and now a associates with this object.\n",
    "\n",
    "Note that id(a) and id(3) have same values.\n",
    "\n",
    "Furthermore, when we do b = 2, the new name b gets associated with the previous object 2.\n",
    "\n",
    "This is efficient as Python doesn't have to create a new duplicate object. This dynamic nature of name binding makes Python powerful; a name could refer to any type of object."
   ]
  },
  {
   "cell_type": "code",
   "execution_count": null,
   "metadata": {
    "collapsed": true
   },
   "outputs": [],
   "source": [
    "a = 5\n",
    "a = 'Hello world'\n",
    "a = [1,2,3]"
   ]
  },
  {
   "cell_type": "markdown",
   "metadata": {},
   "source": [
    "All these are valid and a will refer to three different types of object at different instances. Functions are objects too, so a name can refer to them as well."
   ]
  },
  {
   "cell_type": "code",
   "execution_count": null,
   "metadata": {
    "collapsed": true
   },
   "outputs": [],
   "source": [
    "def printHello():\n",
    "    print(\"Hello\")     \n",
    "a = printHello()"
   ]
  },
  {
   "cell_type": "markdown",
   "metadata": {},
   "source": [
    "Our same name a can refer to a function and we can call the function through it, pretty neat."
   ]
  },
  {
   "cell_type": "markdown",
   "metadata": {},
   "source": [
    "### what is a namespace ?"
   ]
  },
  {
   "cell_type": "markdown",
   "metadata": {},
   "source": [
    "So now that we understand what names are, we can move on to the concept of namespaces.\n",
    "\n",
    "To simply put it, namespace is a collection of names.\n",
    "\n",
    "In Python, you can imagine a namespace as a mapping of every name, you have defined, to corresponding objects.\n",
    "\n",
    "Different namespaces can co-exist at a given time but are completely isolated.\n",
    "\n",
    "A namespace containing all the built-in names is created when we start the Python interpreter and exists as long we don't exit.\n",
    "\n",
    "This is the reason that built-in functions like id(), print() etc. are always available to us from any part of the program. Each module creates its own global namespace."
   ]
  },
  {
   "cell_type": "markdown",
   "metadata": {},
   "source": [
    "Each module creates its own global namespace.\n",
    "\n"
   ]
  },
  {
   "cell_type": "markdown",
   "metadata": {},
   "source": [
    "These different namespaces are isolated. Hence, the same name that may exist in different modules do not collide.\n",
    "\n",
    "Modules can have various functions and classes. A local namespace is created when a function is called, which has all the names defined in it. Similar, is the case with class. Following diagram may help to clarify this concept.\n",
    "\n"
   ]
  },
  {
   "cell_type": "markdown",
   "metadata": {},
   "source": [
    "### variable scope "
   ]
  },
  {
   "cell_type": "markdown",
   "metadata": {},
   "source": [
    "Although there are various unique namespaces defined, we may not be able to access all of them from every part of the program. The concept of scope comes into play.\n",
    "\n",
    "Scope is the portion of the program from where a namespace can be accessed directly without any prefix.\n",
    "\n",
    "At any given moment, there are at least three nested scopes.\n",
    "\n",
    "Scope of the current function which has local names\n",
    "Scope of the module which has global names\n",
    "Outermost scope which has built-in names\n"
   ]
  },
  {
   "cell_type": "markdown",
   "metadata": {},
   "source": [
    "When a reference is made inside a function, the name is searched in the local namespace, then in the global namespace and finally in the built-in namespace.\n",
    "\n",
    "If there is a function inside another function, a new scope is nested inside the local scope.\n",
    "\n"
   ]
  },
  {
   "cell_type": "markdown",
   "metadata": {},
   "source": [
    "## Namespaces and object orientation"
   ]
  },
  {
   "cell_type": "markdown",
   "metadata": {},
   "source": [
    "We begin by exploring what is known as the instance namespace, which man- ages attributes specific to an individual object. For example, each instance of our CreditCard class maintains a distinct balance, a distinct account number, a distinct credit limit, and so on (even though some instances may coincidentally have equiv- alent balances, or equivalent credit limits). Each credit card will have a dedicated instance namespace to manage such values."
   ]
  },
  {
   "cell_type": "markdown",
   "metadata": {},
   "source": [
    "For example, the make payment method of the CreditCard class from Section 2.3 is not stored independently by each instance of that class. That member function is stored within the namespace of the CreditCard class."
   ]
  },
  {
   "cell_type": "markdown",
   "metadata": {},
   "source": [
    "Based on our definition from Code Fragments 2.1 and 2.2, the CreditCard class namespace includes the functions:\n",
    "init     , get customer, get bank, get account, get balance, get limit, charge, and make payment. Our PredatoryCreditCard class has its own namespace, con- taining the three methods we defined for that subclass:     init , charge, and process month."
   ]
  },
  {
   "cell_type": "markdown",
   "metadata": {},
   "source": [
    "### How entries are established in a namespace"
   ]
  },
  {
   "cell_type": "markdown",
   "metadata": {},
   "source": [
    "It is important to understand why a member such as balance resides in a credit card’s instance namespace, while a member such as make payment resides in the class namespace. "
   ]
  },
  {
   "cell_type": "markdown",
   "metadata": {},
   "source": [
    "The balance is established within the     init     method when a new credit card instance is constructed. The original assignment uses the syntax, self. balance = 0, where self is an identifier for the newly constructed instance. The use of self as a qualifier for self. balance in such an assignment causes the\n",
    "balance identifier to be added directly to the instance namespace."
   ]
  },
  {
   "cell_type": "markdown",
   "metadata": {},
   "source": [
    "A class namespace includes all declarations that are made directly within the\n",
    "body of the class definition. For example, our CreditCard class definition included the following structure:\n",
    "\n",
    "\n",
    "class CreditCard:\n",
    "def make payment(self, amount):\n",
    "\n"
   ]
  },
  {
   "cell_type": "markdown",
   "metadata": {},
   "source": [
    "Because the make payment function is declared within the scope of the CreditCard class, that function becomes associated with the name make payment within the CreditCard class namespace."
   ]
  },
  {
   "cell_type": "markdown",
   "metadata": {},
   "source": [
    "Although member functions are the most typical types of entries that are declared in a class namespace, we next discuss how other types of data values, or even other classes can be declared within a class namespace."
   ]
  },
  {
   "cell_type": "markdown",
   "metadata": {},
   "source": [
    "### Class data members"
   ]
  },
  {
   "cell_type": "markdown",
   "metadata": {},
   "source": [
    "A class-level data member is often used when there is some value, such as a con- stant, that is to be shared by all instances of a class. In such a case, it would be unnecessarily wasteful to have each instance store that value in its instance namespace. As an example, we revisit the PredatoryCreditCard"
   ]
  },
  {
   "cell_type": "markdown",
   "metadata": {},
   "source": [
    "That class assesses a 5 fee if an attempted charge is denied because of the credit limit. Our choice of $5 for the fee was somewhat arbitrary, and our coding style would be better if we used a named variable rather than embedding the literal value in our code. Often, the amount of such a fee is determined by the bank’s policy and does not vary for each customer. In that case, we could define and use a class data member as follows:"
   ]
  },
  {
   "cell_type": "code",
   "execution_count": null,
   "metadata": {
    "collapsed": true
   },
   "outputs": [],
   "source": [
    "class PredatoryCreditCard(CreditCard):\n",
    "    \n",
    "    OVERLIMIT_FEE = 5\n",
    "    \n",
    "    def charge(self,price):\n",
    "        \n",
    "        success = super().charge(price)\n",
    "        if not success:\n",
    "            self._balance += PredatoryCreditCard.OVERLIMIT_FEE # this is a class variable\n",
    "        return success"
   ]
  },
  {
   "cell_type": "markdown",
   "metadata": {},
   "source": [
    "The data member, OVERLIMIT FEE, is entered into the PredatoryCreditCard class namespace because that assignment takes place within the immediate scope of the class definition, and without any qualifying identifier."
   ]
  },
  {
   "cell_type": "markdown",
   "metadata": {},
   "source": [
    "### Nested Classes"
   ]
  },
  {
   "cell_type": "markdown",
   "metadata": {},
   "source": [
    "It is also possible to nest one class definition within the scope of another class. This is a useful construct, which we will exploit several times in this book in the implementation of data structures. This can be done by using a syntax such as\n"
   ]
  },
  {
   "cell_type": "markdown",
   "metadata": {},
   "source": [
    "    class A: # the outer class \n",
    "         class B: # the nested class\n",
    "..."
   ]
  },
  {
   "cell_type": "markdown",
   "metadata": {},
   "source": [
    "In this case, class B is the nested class. The identifier B is entered into the name- space of class A associated with the newly defined class. We note that this technique is unrelated to the concept of inheritance, as class B does not inherit from class A.\n",
    "Nesting one class in the scope of another makes clear that the nested class exists for support of the outer class. Furthermore, it can help reduce potential name conflicts, because it allows for a similarly named class to exist in another context. For example, we will later introduce a data structure known as a linked list and will define a nested node class to store the individual components of the list. We will also introduce a data structure known as a tree that depends upon its own nested\n",
    "   www.it-ebooks.info\n",
    "2.5. Namespaces and Object-Orientation 99\n",
    "node class. These two structures rely on different node definitions, and by nesting those within the respective container classes, we avoid ambiguity."
   ]
  },
  {
   "cell_type": "markdown",
   "metadata": {},
   "source": [
    "Another advantage of one class being nested as a member of another is that it allows for a more advanced form of inheritance in which a subclass of the outer class overrides the definition of its nested class. We will make use of that technique in Section 11.2.1 when specializing the nodes of a tree structure."
   ]
  },
  {
   "cell_type": "markdown",
   "metadata": {},
   "source": [
    "### Dictionaries and the     slots     Declaration"
   ]
  },
  {
   "cell_type": "markdown",
   "metadata": {},
   "source": [
    "By default, Python represents each namespace with an instance of the built-in dict class (see Section 1.2.3) that maps identifying names in that scope to the associated objects. While a dictionary structure supports relatively efficient name lookups, it requires additional memory usage beyond the raw data that it stores (we will explore the data structure used to implement dictionaries in Chapter 10).\n",
    "Python provides a more direct mechanism for representing instance namespaces that avoids the use of an auxiliary dictionary. To use the streamlined representation for all instances of a class, that class definition must provide a class-level member named     slots     that is assigned to a fixed sequence of strings that serve as names for instance variables. For example, with our CreditCard class, we would declare the following:"
   ]
  },
  {
   "cell_type": "markdown",
   "metadata": {},
   "source": [
    "    class CreditCard:\n",
    "        __slots__ = '_customer , _bank , _account , _balance , _limit'"
   ]
  },
  {
   "cell_type": "markdown",
   "metadata": {},
   "source": [
    "In this example, the right-hand side of the assignment is technically a tuple (see discussion of automatic packing of tuples in Section 1.9.3).\n",
    "When inheritance is used, if the base class declares     slots     , a subclass must also declare     slots     to avoid creation of instance dictionaries. The declaration in the subclass should only include names of supplemental methods that are newly introduced. For example, our PredatoryCreditCard declaration would include the following declaration:"
   ]
  },
  {
   "cell_type": "markdown",
   "metadata": {},
   "source": [
    "    class PredatoryCreditCard(CreditCard):\n",
    "       __slots__     =   '_apr'\n"
   ]
  },
  {
   "cell_type": "markdown",
   "metadata": {},
   "source": [
    "We could choose to use the     slots     declaration to streamline every class. However, we do not do so because such rigor would be atypical for Python programs. With that said, there are a few classes in this book for which we expect to have a large number of instances, each representing a lightweight construct. For example, when discussing nested classes, we suggest linked lists and trees as data structures that are often comprised of a large number of individual nodes. To promote greater efficiency in memory usage, we will use an explicit\n",
    "slots     declaration in any nested classes for which we expect many instances."
   ]
  },
  {
   "cell_type": "markdown",
   "metadata": {},
   "source": [
    "### Name Resolution and Dynamic Dispatch"
   ]
  },
  {
   "cell_type": "markdown",
   "metadata": {},
   "source": [
    "In the previous section, we discussed various namespaces, and the mechanism for establishing entries in those namespaces. In this section, we examine the process that is used when retrieving a name in Python’s object-oriented framework. When the dot operator syntax is used to access an existing member, such as obj.foo, the Python interpreter begins a name resolution process, described as follows:"
   ]
  },
  {
   "cell_type": "markdown",
   "metadata": {},
   "source": [
    "1. The instance namespace is searched; if the desired name is found, its associ- ated value is used.\n",
    "2. Otherwise the class namespace, for the class to which the instance belongs, is searched; if the name is found, its associated value is used.\n",
    "3. If the name was not found in the immediate class namespace, the search con- tinues upward through the inheritance hierarchy, checking the class name- space for each ancestor (commonly by checking the superclass class, then its superclass class, and so on). The first time the name is found, its associate value is used.\n",
    "4. If the name has still not been found, an AttributeError is raised.\n"
   ]
  },
  {
   "cell_type": "markdown",
   "metadata": {},
   "source": [
    "As a tangible example, let us assume that mycard identifies an instance of the\n",
    "PredatoryCreditCard class. Consider the following possible usage patterns.\n",
    "\n",
    "mycard. balance (or equivalently, self. balance from within a method body):\n",
    "the   balance method is found within the instance namespace for mycard.\n",
    "1. mycard.balance (or equivalently, self.balance from within a method body):\n",
    "the  balance method is found within the instance namespace for mycard.\n",
    "2. mycard.process month(): the search begins in the instance namespace, but the name process month is not found in that namespace. As a result, the PredatoryCreditCard class namespace is searched; in this case, the name is\n",
    "found and that method is called.\n",
    "3. mycard.make payment(200): the search for the name, make payment, fails\n",
    "in the instance namespace and in the PredatoryCreditCard namespace. The name is resolved in the namespace for superclass CreditCard and thus the inherited method is called.\n",
    "4. mycard.charge(50): the search for name charge fails in the instance name- space. The next namespace checked is for the PredatoryCreditCard class, because that is the true type of the instance. There is a definition for a charge function in that class, and so that is the one that is called."
   ]
  },
  {
   "cell_type": "markdown",
   "metadata": {},
   "source": [
    "### Shallow and Deep copying"
   ]
  },
  {
   "cell_type": "markdown",
   "metadata": {},
   "source": [
    "In Chapter 1, we emphasized that an assignment statement foo = bar makes the name foo an alias for the object identified as bar. In this section, we consider the task of making a copy of an object, rather than an alias. This is necessary in applications when we want to subsequently modify either the original or the copy in an independent manner.\n",
    "Consider a scenario in which we manage various lists of colors, with each color represented by an instance of a presumed color class. We let identifier warmtones denote an existing list of such colors (e.g., oranges, browns). In this application, we wish to create a new list named palette, which is a copy of the warmtones list. However, we want to subsequently be able to add additional colors to palette, or to modify or remove some of the existing colors, without affecting the contents of warmtones. If we were to execute the command"
   ]
  },
  {
   "cell_type": "code",
   "execution_count": 3,
   "metadata": {
    "collapsed": true
   },
   "outputs": [],
   "source": [
    "warmtones = ['red','blue','green']"
   ]
  },
  {
   "cell_type": "code",
   "execution_count": 5,
   "metadata": {
    "collapsed": true
   },
   "outputs": [],
   "source": [
    "Pallette = warmtones"
   ]
  },
  {
   "cell_type": "markdown",
   "metadata": {},
   "source": [
    "this creates an alias, as shown in Figure 2.9. No new list is created; instead, the new identifier palette references the original list."
   ]
  },
  {
   "cell_type": "code",
   "execution_count": 6,
   "metadata": {
    "collapsed": true
   },
   "outputs": [],
   "source": [
    "# modifying Pallette modifies warmtones\n",
    "Pallette.append('purple')"
   ]
  },
  {
   "cell_type": "code",
   "execution_count": 7,
   "metadata": {},
   "outputs": [
    {
     "data": {
      "text/plain": [
       "['red', 'blue', 'green', 'purple']"
      ]
     },
     "execution_count": 7,
     "metadata": {},
     "output_type": "execute_result"
    }
   ],
   "source": [
    "warmtones"
   ]
  },
  {
   "cell_type": "markdown",
   "metadata": {},
   "source": [
    "We can instead create a new instance of the list class by using the syntax:"
   ]
  },
  {
   "cell_type": "code",
   "execution_count": 9,
   "metadata": {
    "collapsed": true
   },
   "outputs": [],
   "source": [
    "warmtones = ['red','blue','green']"
   ]
  },
  {
   "cell_type": "code",
   "execution_count": 10,
   "metadata": {
    "collapsed": true
   },
   "outputs": [],
   "source": [
    "Pallette = list(warmtones)"
   ]
  },
  {
   "cell_type": "markdown",
   "metadata": {},
   "source": [
    "In this case, we explicitly call the list constructor, sending the first list as a param- eter. This causes a new list to be created, as shown in Figure 2.10; however, it is what is known as a shallow copy. The new list is initialized so that its contents are precisely the same as the original sequence. However, Python’s lists are referential (see page 9 of Section 1.2.3), and so the new list represents a sequence of references to the same elements as in the first."
   ]
  },
  {
   "cell_type": "code",
   "execution_count": 11,
   "metadata": {
    "collapsed": true
   },
   "outputs": [],
   "source": [
    "Pallette.append('navy')"
   ]
  },
  {
   "cell_type": "code",
   "execution_count": 12,
   "metadata": {},
   "outputs": [
    {
     "name": "stdout",
     "output_type": "stream",
     "text": [
      "['red', 'blue', 'green']\n",
      "['red', 'blue', 'green', 'navy']\n"
     ]
    }
   ],
   "source": [
    "print(warmtones)\n",
    "print(Pallette)"
   ]
  },
  {
   "cell_type": "code",
   "execution_count": 13,
   "metadata": {
    "collapsed": true
   },
   "outputs": [],
   "source": [
    "# Now lets try and change one \n",
    "Pallette[0] = 'dark blue'"
   ]
  },
  {
   "cell_type": "code",
   "execution_count": 14,
   "metadata": {},
   "outputs": [
    {
     "name": "stdout",
     "output_type": "stream",
     "text": [
      "['red', 'blue', 'green']\n",
      "['dark blue', 'blue', 'green', 'navy']\n"
     ]
    }
   ],
   "source": [
    "print(warmtones)\n",
    "print(Pallette)"
   ]
  },
  {
   "cell_type": "markdown",
   "metadata": {},
   "source": [
    "This is a better situation than our first attempt, as we can legitimately add or remove elements from palette without affecting warmtones. However, if we edit a color instance from the palette list, we effectively change the contents of warmtones. Although palette and warmtones are distinct lists, there remains indi- rect aliasing, for example, with palette[0] and warmtones[0] as aliases for the same color instance.\n",
    "We prefer that palette be what is known as a deep copy of warmtones. In a deep copy, the new copy references its own copies of those objects referenced by the original version. (See Figure 2.11.)"
   ]
  },
  {
   "cell_type": "markdown",
   "metadata": {},
   "source": [
    "To create a deep copy, we could populate our list by explicitly making copies of the original color instances, but this requires that we know how to make copies of colors (rather than aliasing). Python provides a very convenient module, named copy, that can produce both shallow copies and deep copies of arbitrary objects.\n",
    "This module supports two functions: the copy function creates a shallow copy of its argument, and the deepcopy function creates a deep copy of its argument. After importing the module, we may create a deep copy for our example, as shown in Figure 2.11, using the command:"
   ]
  },
  {
   "cell_type": "code",
   "execution_count": 16,
   "metadata": {
    "collapsed": true
   },
   "outputs": [],
   "source": [
    "import copy"
   ]
  },
  {
   "cell_type": "code",
   "execution_count": 17,
   "metadata": {
    "collapsed": true
   },
   "outputs": [],
   "source": [
    "palette = copy.deepcopy(warmtones)"
   ]
  },
  {
   "cell_type": "code",
   "execution_count": 18,
   "metadata": {
    "collapsed": true
   },
   "outputs": [],
   "source": [
    "old_list = [[1,2,3],[4,5,6],[7,8,9]]\n",
    "new_list = copy.copy(old_list) # make a shallow copy"
   ]
  },
  {
   "cell_type": "code",
   "execution_count": 19,
   "metadata": {
    "collapsed": true
   },
   "outputs": [],
   "source": [
    "old_list[0] = ['a','b','c']"
   ]
  },
  {
   "cell_type": "code",
   "execution_count": 20,
   "metadata": {},
   "outputs": [
    {
     "name": "stdout",
     "output_type": "stream",
     "text": [
      "[['a', 'b', 'c'], [4, 5, 6], [7, 8, 9]]\n",
      "[[1, 2, 3], [4, 5, 6], [7, 8, 9]]\n"
     ]
    }
   ],
   "source": [
    "print(old_list)\n",
    "print(new_list)"
   ]
  },
  {
   "cell_type": "markdown",
   "metadata": {},
   "source": [
    "*  Now lets try and re-run the code but change one of the elements of the first list within the list"
   ]
  },
  {
   "cell_type": "code",
   "execution_count": 21,
   "metadata": {
    "collapsed": true
   },
   "outputs": [],
   "source": [
    "old_list = [[1,2,3],[4,5,6],[7,8,9]]\n",
    "new_list = copy.copy(old_list) # make a shallow copy"
   ]
  },
  {
   "cell_type": "code",
   "execution_count": 22,
   "metadata": {
    "collapsed": true
   },
   "outputs": [],
   "source": [
    "old_list[0][1] = 'a'"
   ]
  },
  {
   "cell_type": "code",
   "execution_count": 23,
   "metadata": {},
   "outputs": [
    {
     "name": "stdout",
     "output_type": "stream",
     "text": [
      "[[1, 'a', 3], [4, 5, 6], [7, 8, 9]]\n",
      "[[1, 'a', 3], [4, 5, 6], [7, 8, 9]]\n"
     ]
    }
   ],
   "source": [
    "print(old_list)\n",
    "print(new_list)"
   ]
  },
  {
   "cell_type": "markdown",
   "metadata": {},
   "source": [
    "* You can see now both have changed this is because shallow copy still keeps a reference to each element of the object "
   ]
  },
  {
   "cell_type": "markdown",
   "metadata": {},
   "source": [
    "For compound objects like lists, dicts, and sets, there’s an important difference between shallow and deep copying:\n",
    "\n",
    "A shallow copy means constructing a new collection object and then populating it with references to the child objects found in the original. In essence, a shallow copy is only one level deep. The copying process does not recurse and therefore won’t create copies of the child objects themselves.\n",
    "\n",
    "A deep copy makes the copying process recursive. It means first constructing a new collection object and then recursively populating it with copies of the child objects found in the original. Copying an object this way walks the whole object tree to create a fully independent clone of the original object and all of its children."
   ]
  },
  {
   "cell_type": "code",
   "execution_count": null,
   "metadata": {
    "collapsed": true
   },
   "outputs": [],
   "source": []
  }
 ],
 "metadata": {
  "kernelspec": {
   "display_name": "Python 3",
   "language": "python",
   "name": "python3"
  },
  "language_info": {
   "codemirror_mode": {
    "name": "ipython",
    "version": 2
   },
   "file_extension": ".py",
   "mimetype": "text/x-python",
   "name": "python",
   "nbconvert_exporter": "python",
   "pygments_lexer": "ipython2",
   "version": "2.7.8"
  }
 },
 "nbformat": 4,
 "nbformat_minor": 2
}
